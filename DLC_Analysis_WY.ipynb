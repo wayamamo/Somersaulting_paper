{
  "nbformat": 4,
  "nbformat_minor": 0,
  "metadata": {
    "colab": {
      "name": "DLC_Analysis_WY.ipynb",
      "provenance": [],
      "authorship_tag": "ABX9TyNrVrLmAgytS2IpGGQC7j55",
      "include_colab_link": true
    },
    "kernelspec": {
      "name": "python3",
      "display_name": "Python 3"
    },
    "language_info": {
      "name": "python"
    }
  },
  "cells": [
    {
      "cell_type": "markdown",
      "metadata": {
        "id": "view-in-github",
        "colab_type": "text"
      },
      "source": [
        "<a href=\"https://colab.research.google.com/github/wayamamo/Somersaulting_paper/blob/main/DLC_Analysis_WY.ipynb\" target=\"_parent\"><img src=\"https://colab.research.google.com/assets/colab-badge.svg\" alt=\"Open In Colab\"/></a>"
      ]
    },
    {
      "cell_type": "markdown",
      "source": [
        "**Using the derived x y coordinates from DeepLabCut (DLC), this code computes all the parameters including Time, Body length, Body length speed, Basal disc distance, Basal disc speed, and Foot angle.**\n",
        "\n",
        "**This code also computes the number and time location of a somersalt**\n",
        "\n",
        "---\n",
        "\n",
        "\n",
        "Derived values will be later used to compute parameters within each step of a somersault.\n",
        "\n"
      ],
      "metadata": {
        "id": "3R48DuhPNgvQ"
      }
    },
    {
      "cell_type": "markdown",
      "source": [
        "Loading Data"
      ],
      "metadata": {
        "id": "Bh0mctTrQ37d"
      }
    },
    {
      "cell_type": "code",
      "execution_count": null,
      "metadata": {
        "id": "OfbWMLf6NAkO"
      },
      "outputs": [],
      "source": [
        "import pandas as pd\n",
        "import numpy as np\n",
        "from matplotlib import pyplot as plt\n",
        "\n",
        "from google.colab import files     #upload the file in the colab\n",
        "uploaded = files.upload()\n",
        "\n",
        "filename = next(iter(uploaded))               # add the name of file you want to analyze\n",
        "dl = pd.read_csv(filename)"
      ]
    },
    {
      "cell_type": "markdown",
      "source": [
        "Renaming Headers in csv"
      ],
      "metadata": {
        "id": "Jjp0XRspQ9K1"
      }
    },
    {
      "cell_type": "code",
      "source": [
        "# The top three rows are renamed for the purpose of analysis\n",
        "\n",
        "\n",
        "dl = dl.drop(dl.index[[0,1]])\n",
        "dl.columns = ['#', 'mtx', 'mty', 'mtl', 'mbx', 'mby', 'mbl', 'fox', 'foy', 'fol', 'bdx', 'bdy', 'bdl']\n",
        "dl = dl.reset_index()\n",
        "dl = dl.drop(columns = ['index', 'mtl', 'mbl', 'fol', 'bdl'])\n",
        "dl.head(5)\n",
        "\n",
        "## Convert all the numbers to float\n",
        "dl = dl.astype(float)\n",
        "dl.dtypes\n",
        "\n",
        "print(dl)"
      ],
      "metadata": {
        "id": "aCATMQqgRBmN"
      },
      "execution_count": null,
      "outputs": []
    },
    {
      "cell_type": "markdown",
      "source": [
        "Computation of parameters"
      ],
      "metadata": {
        "id": "LFWClp9VRCfn"
      }
    },
    {
      "cell_type": "code",
      "source": [
        "#1 Basal disc speed\n",
        "total_r = int(dl.iloc[-1,0])     #Total number of row\n",
        "dl2 = dl\n",
        "dl2['BD_speed'] = dl['mtx'] + dl['mty']\n",
        "dl2['BD_speed'][0] = 0\n",
        "#print(dl2)\n",
        "for i in range(0, total_r):\n",
        "  dl['BD_speed'][i+1] = np.sqrt((((dl['bdx'][i])-(dl['bdx'][i+1]))**2)+(((dl['bdy'][i])-(dl['bdy'][i+1]))**2))\n",
        "\n",
        "print(dl2)\n",
        "\n",
        "\n",
        "#2 Basal disc cumulative distance traveled (not as accurate)\n",
        "total_r = int(dl.iloc[-1,0])     #Total number of row\n",
        "dl2 = dl\n",
        "dl2['BD_dist'] = dl['mtx'] + dl['mty']\n",
        "dl2['BD_dist'][0] = 0\n",
        "#print(dl2)\n",
        "for i in range(0, total_r):\n",
        "  dl['BD_dist'][i+1] = dl['BD_dist'][i] + np.sqrt((((dl['bdx'][i])-(dl['bdx'][i+1]))**2)+(((dl['bdy'][i])-(dl['bdy'][i+1]))**2))\n",
        "\n",
        "print(dl2)\n",
        "\n",
        "\n",
        "\n",
        "# Body length\n",
        "total_r = int(dl.iloc[-1,0])     #Total number of row\n",
        "dl2 = dl\n",
        "dl2['Body_length'] = dl['mtx'] + dl['mty']\n",
        "#print(dl2)\n",
        "for i in range(0, total_r + 1):\n",
        "  dl['Body_length'][i] = np.sqrt((((dl['mtx'][i])-(dl['mbx'][i]))**2)+(((dl['mty'][i])-(dl['mby'][i]))**2)) + \\\n",
        "                       np.sqrt((((dl['mbx'][i])-(dl['fox'][i]))**2)+(((dl['mby'][i])-(dl['foy'][i]))**2)) + \\\n",
        "                       np.sqrt((((dl['fox'][i])-(dl['bdx'][i]))**2)+(((dl['foy'][i])-(dl['bdy'][i]))**2))\n",
        "                       \n",
        "print(dl2)\n",
        "\n",
        "\n",
        "\n",
        "\n",
        "\n",
        "# Foot angle\n",
        "total_r = int(dl.iloc[-1,0])     #Total number of row\n",
        "dl2 = dl\n",
        "\n",
        "dl2['ax'] = dl['mbx'] - dl['fox']\n",
        "dl2['ay'] = dl['mby'] - dl['foy']\n",
        "dl2['bx'] = dl['bdx'] - dl['fox']\n",
        "dl2['by'] = dl['bdy'] - dl['foy']\n",
        "\n",
        "dl2['Foot_angle'] = dl['mtx'] + dl['mty']\n",
        "\n",
        "for i in range(0, total_r + 1):\n",
        "  value = ((dl2['ax'][i])*(dl2['bx'][i]) + (dl2['ay'][i])*(dl2['by'][i]))/ \\\n",
        "                        (np.sqrt((dl['ax'][i])**2 + (dl['ay'][i])**2)* \\\n",
        "                         np.sqrt((dl['bx'][i])**2 + (dl['by'][i])**2))\n",
        "  dl['Foot_angle'][i] = np.arccos(value) * 180 / np.pi\n",
        "                       \n",
        "print(dl2['Foot_angle'])\n"
      ],
      "metadata": {
        "id": "haxZbxhVRCpC"
      },
      "execution_count": null,
      "outputs": []
    },
    {
      "cell_type": "code",
      "source": [
        "# Throw out noise for the Body_length    (high pass filter)   # parameter that can be changed\n",
        "\n",
        "\n",
        "\n",
        "total_r = int(dl.iloc[-1,0])     #Total number of row    \n",
        "\n",
        "dl2['Filtered_BL'] = dl['mtx'] + dl['mty']\n",
        "#print(dl2)\n",
        "for i in range(0, total_r + 1):\n",
        "  if dl['Body_length'][i] > 136:                   #parameter\n",
        "    dl['Filtered_BL'][i] = dl['Filtered_BL'][i-1]\n",
        "\n",
        "  elif dl['Body_length'][i] <= 136:\n",
        "    dl['Filtered_BL'][i] = dl['Body_length'][i]\n",
        "\n",
        "\n",
        "                    \n",
        "plt.plot(dl2['#'],dl2['Filtered_BL'],marker= '', color ='purple', linewidth = 3, label = 'Filtered_BL')"
      ],
      "metadata": {
        "id": "knmKEGvJRW8Z"
      },
      "execution_count": null,
      "outputs": []
    },
    {
      "cell_type": "code",
      "source": [
        "plt.plot(dl2['#'],dl2['Body_length'],marker= '', color ='olive', linewidth = 3, label = 'Body_length')   "
      ],
      "metadata": {
        "id": "-63GTy8iReZ2"
      },
      "execution_count": null,
      "outputs": []
    },
    {
      "cell_type": "code",
      "source": [
        "#calculate SST distances based on frames selected that are part of the SST behaviour\n",
        "\n",
        "distance = pd.DataFrame(dl2['BD_speed'])\n",
        "print(distance)\n",
        "totaldistance = distance.iloc[0:25].sum()\n",
        "speed = pd.DataFrame(dl2['BD_dist'])\n",
        "#totalspeed = speed[4]-speed[7]\n",
        "averageSpeed = totaldistance/(79-9) #costumize frames to counti\n",
        "print(totaldistance)\n",
        "print(averageSpeed)"
      ],
      "metadata": {
        "id": "Wl7nGBY-RjOj"
      },
      "execution_count": null,
      "outputs": []
    },
    {
      "cell_type": "code",
      "source": [
        "plt.plot(dl2['#'],dl2['BD_speed'],marker= '', color ='olive', linewidth = 3, label = 'BD_speed')"
      ],
      "metadata": {
        "id": "VZdf4lALRllO"
      },
      "execution_count": null,
      "outputs": []
    },
    {
      "cell_type": "code",
      "source": [
        "plt.figure(1)\n",
        "plt.subplot(211)\n",
        "plt.plot(dl2['#'],dl2['bdx'],marker= '', color ='olive', linewidth = 3, label = 'bdx')\n",
        "plt.legend()\n",
        "\n",
        "plt.subplot(212)\n",
        "plt.plot(dl2['#'],dl2['bdy'],marker= '', color ='blue', linewidth = 3, label = 'bdy')\n",
        "\n",
        "plt.legend()\n",
        "plt.show()"
      ],
      "metadata": {
        "id": "0PdDGue-RoOc"
      },
      "execution_count": null,
      "outputs": []
    },
    {
      "cell_type": "code",
      "source": [
        "plt.figure(1)\n",
        "plt.subplot(211)\n",
        "plt.plot(dl2['#'],dl2['bdx'],marker= '', color ='olive', linewidth = 3, label = 'bdx')\n",
        "plt.legend()\n",
        "\n",
        "plt.subplot(212)\n",
        "plt.plot(dl2['#'],dl2['bdy'],marker= '', color ='blue', linewidth = 3, label = 'bdy')\n",
        "\n",
        "plt.legend()\n",
        "plt.show()"
      ],
      "metadata": {
        "id": "EPdRwxfrRrLK"
      },
      "execution_count": null,
      "outputs": []
    },
    {
      "cell_type": "code",
      "source": [
        "#smooth the bdx and bdy and calculate the sBD_speed\n",
        "\n",
        "dl2['sbdx'] = (dl2['bdx'].rolling(5).sum())/5\n",
        "dl2['sbdy'] = (dl2['bdy'].rolling(5).sum())/5\n",
        "\n",
        "\n",
        "\n",
        "\n",
        "\n",
        "# calculate sBD_speed\n",
        "total_r = int(dl.iloc[-1,0])     #Total number of row\n",
        "dl2 = dl\n",
        "dl2['sBD_speed'] = dl['mtx'] + dl['mty']\n",
        "dl2['sBD_speed'][0] = 0\n",
        "#print(dl2)\n",
        "for i in range(0, total_r):\n",
        "  dl['sBD_speed'][i+1] = np.sqrt((((dl['sbdx'][i])-(dl['sbdx'][i+1]))**2)+(((dl['sbdy'][i])-(dl['sbdy'][i+1]))**2))\n",
        "\n",
        "plt.figure(1)\n",
        "plt.subplot(311)\n",
        "plt.plot(dl2['#'],dl2['sbdx'],marker= '', color ='olive', linewidth = 3, label = 'sbdx')\n",
        "plt.legend()\n",
        "\n",
        "\n",
        "plt.subplot(312)\n",
        "plt.plot(dl2['#'],dl2['sbdy'],marker= '', color ='blue', linewidth = 3, label = 'sbdy')\n",
        "plt.legend()\n",
        "\n",
        "plt.subplot(313)\n",
        "plt.plot(dl2['#'],dl2['sBD_speed'],marker= '', color ='red', linewidth = 3, label = 'sBD_s')\n",
        "plt.legend()\n",
        "\n",
        "\n",
        "plt.show()"
      ],
      "metadata": {
        "id": "NeSZ1kI7RvPx"
      },
      "execution_count": null,
      "outputs": []
    },
    {
      "cell_type": "code",
      "source": [
        "# get location of sBD_speed\n",
        "\n",
        "n = 0\n",
        "dl2['sSST_peak'] = 0              #dl['mtx'][0] + dl['mty'][0]\n",
        "\n",
        "for i in range(1, total_r+1):\n",
        "  if 3 < dl2['sBD_speed'][i] < 30:             # 1st threshold, decide from the graph of the BD speed\n",
        "    dl2['sSST_peak'][n] = i\n",
        "    n = n+1\n",
        "\n",
        " \n",
        "#print(dl2['SST_peak'])\n",
        "\n",
        "\n",
        "\n",
        "\n",
        "# make lists for SST_peak \n",
        "# move out of data frame of pandas, and work on actual numbers\n",
        "\n",
        "\n",
        "SST_1 = []\n",
        "\n",
        "for i in range(0, total_r+1):\n",
        "  if ( dl2['sSST_peak'][i] != 0) :\n",
        "    SST_1.append(dl2['sSST_peak'][i])\n",
        "  else:\n",
        "    break\n",
        "\n",
        "\n",
        "print(SST_1)\n",
        "\n",
        "\n",
        "\n",
        "\n",
        "\n",
        "# Detecting the onset time for each event \n",
        "\n",
        "\n",
        "SST_new = []    # after extracting first number of the peak\n",
        "time_len = 0\n",
        "SST_timeL = []\n",
        "for i in range(0, len(SST_1)):             #  this means start locatin 0 and stop location at 35  len() function include count 0\n",
        "  if i == 0:\n",
        "    SST_new.append(SST_1[0])\n",
        "\n",
        "  elif i == (len(SST_1)-1):\n",
        "    time_len = time_len + (SST_1[i] - SST_1[i-1])\n",
        "    SST_timeL.append(time_len)\n",
        "\n",
        "  elif  (SST_1[i] - SST_1[i-1]) < 20:\n",
        "    time_len = time_len + (SST_1[i] - SST_1[i-1])\n",
        "\n",
        "  elif  (SST_1[i] - SST_1[i-1]) >= 20  :\n",
        "    SST_new.append(SST_1[i])\n",
        "    SST_timeL.append(time_len)\n",
        "    time_len = 0\n",
        "\n",
        "\n",
        "print(SST_new)\n",
        "print(SST_timeL)\n",
        "print(len(SST_new))\n",
        "\n"
      ],
      "metadata": {
        "id": "5pVwAjymRzee"
      },
      "execution_count": null,
      "outputs": []
    },
    {
      "cell_type": "markdown",
      "source": [
        "Saving Files\n",
        "\n"
      ],
      "metadata": {
        "id": "ziI1sFkZRssI"
      }
    },
    {
      "cell_type": "code",
      "source": [
        "dl2.to_csv(filename +'_ANALYZED.csv', index=False)\n",
        "files.download(filename +'_ANALYZED.csv')"
      ],
      "metadata": {
        "id": "mu1hs2KOR49y"
      },
      "execution_count": null,
      "outputs": []
    },
    {
      "cell_type": "markdown",
      "source": [
        "Detect the number of Somersaulting and get **locations**"
      ],
      "metadata": {
        "id": "QaKOcL4TR9sK"
      }
    },
    {
      "cell_type": "code",
      "source": [
        "# get location of BD_speed\n",
        "\n",
        "n = 0\n",
        "dl2['SST_peak'] = 0              #dl['mtx'][0] + dl['mty'][0]\n",
        "\n",
        "for i in range(1, total_r+1):\n",
        "  if  7 < dl2['BD_speed'][i] < 23:             # 1st threshold, decide from the graph of the BD speed\n",
        "    dl2['SST_peak'][n] = i\n",
        "    n = n+1\n",
        "\n",
        " \n",
        "print(dl2['SST_peak'])\n",
        "\n",
        "\n",
        "\n",
        "\n",
        "# make lists for SST_peak \n",
        "# move out of data frame of pandas, and work on actual numbers\n",
        "\n",
        "\n",
        "SST_1 = []\n",
        "\n",
        "for i in range(0, total_r+1):\n",
        "  if ( dl2['SST_peak'][i] != 0) :\n",
        "    SST_1.append(dl2['SST_peak'][i])\n",
        "  else:\n",
        "    break\n",
        "\n",
        "\n",
        "print(SST_1)\n",
        "\n",
        "\n",
        "\n",
        "\n",
        "\n",
        "# Detecting the onset time for each event \n",
        "\n",
        "\n",
        "SST_new = []    # after extracting first number of the peak\n",
        "time_len = 0\n",
        "SST_timeL = []\n",
        "for i in range(0, len(SST_1)):             #  this means start locatin 0 and stop location at 35  len() function include count 0\n",
        "  if i == 0:\n",
        "    SST_new.append(SST_1[0])\n",
        "\n",
        "  elif i == (len(SST_1)-1):\n",
        "    time_len = time_len + (SST_1[i] - SST_1[i-1])\n",
        "    SST_timeL.append(time_len)\n",
        "\n",
        "  elif  (SST_1[i] - SST_1[i-1]) < 20:\n",
        "    time_len = time_len + (SST_1[i] - SST_1[i-1])\n",
        "\n",
        "  elif  (SST_1[i] - SST_1[i-1]) >= 20  :\n",
        "    SST_new.append(SST_1[i])\n",
        "    SST_timeL.append(time_len)\n",
        "    time_len = 0\n",
        "\n",
        "\n",
        "print(SST_new)\n",
        "print(SST_timeL)\n",
        "\n",
        "\n",
        "\n",
        "\n",
        "# Final filtering: if the time is too long (>10s) it is false thus thrown out\n",
        "# 10 can be played around\n",
        "\n",
        "SSTloc = []\n",
        "SSTloc_time = []\n",
        "SSTnumber = 0\n",
        "\n",
        "for i in range(0, len(SST_new)):\n",
        "   if SST_timeL[i] < 10:                   \n",
        "    SSTloc.append(SST_new[i])\n",
        "    SSTloc_time.append(SST_timeL[i])\n",
        "  \n",
        " # elif SST_timeL[i] >= 10:\n",
        " #    SSTloc.append(SST_new[i])\n",
        " #    SSTloc_time.append(SST_timeL[i])   \n",
        "\n",
        "\n",
        "# make sure that elongation event was not included\n",
        "\n",
        "print(SSTloc)\n",
        "print(SSTloc_time)\n",
        "print(len(SSTloc))\n",
        "\n",
        "for i in range(0, len(SSTloc)-1):\n",
        "\n",
        "  print(SSTloc[i])\n",
        "  if  ( dl2['Body_length'][SSTloc[i]] - dl2['Body_length'][(SSTloc[i])+ 1]) < 2:            # in not really contracting the foot thrown out       \n",
        "    SSTloc.pop(i)\n",
        "    SSTloc_time.pop(i)\n",
        "\n",
        "SSTnumber = len(SSTloc)\n",
        "\n",
        "print(SSTloc)\n",
        "print(SSTloc_time)\n",
        "print(SSTnumber)"
      ],
      "metadata": {
        "id": "MmdiVfipR-AI"
      },
      "execution_count": null,
      "outputs": []
    },
    {
      "cell_type": "code",
      "source": [],
      "metadata": {
        "id": "n98pVSUxR-Ez"
      },
      "execution_count": null,
      "outputs": []
    }
  ]
}