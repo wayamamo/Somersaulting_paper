{
  "nbformat": 4,
  "nbformat_minor": 0,
  "metadata": {
    "colab": {
      "name": "DLC Analysis Each Step.ipynb",
      "provenance": [],
      "authorship_tag": "ABX9TyOH3PLS1Jy4HZbM3Ilchab5",
      "include_colab_link": true
    },
    "kernelspec": {
      "name": "python3",
      "display_name": "Python 3"
    },
    "language_info": {
      "name": "python"
    }
  },
  "cells": [
    {
      "cell_type": "markdown",
      "metadata": {
        "id": "view-in-github",
        "colab_type": "text"
      },
      "source": [
        "<a href=\"https://colab.research.google.com/github/wayamamo/Somersaulting_paper/blob/main/DLC_Analysis_Each_Step.ipynb\" target=\"_parent\"><img src=\"https://colab.research.google.com/assets/colab-badge.svg\" alt=\"Open In Colab\"/></a>"
      ]
    },
    {
      "cell_type": "markdown",
      "source": [
        "**DLC Analysis for each somersaulting step**"
      ],
      "metadata": {
        "id": "flgwVFLHU-7w"
      }
    },
    {
      "cell_type": "markdown",
      "source": [
        "Load saved file (.csv) from DLC_Analysis_WY"
      ],
      "metadata": {
        "id": "GgREIUX9YnIH"
      }
    },
    {
      "cell_type": "code",
      "execution_count": null,
      "metadata": {
        "id": "z8yLyPCTU-Px"
      },
      "outputs": [],
      "source": [
        "import pandas as pd\n",
        "import numpy as np\n",
        "from matplotlib import pyplot as plt\n",
        "\n",
        "from google.colab import files     #upload the file in the colab\n",
        "uploaded = files.upload()\n",
        "\n",
        "filename = next(iter(uploaded))               # add the name of file you want to analyze\n",
        "dl = pd.read_csv(filename)\n"
      ]
    },
    {
      "cell_type": "markdown",
      "source": [
        "Firstly, the start time and the end time for each step of a somersault has to be manually identified by going through recordings.\n",
        "---\n",
        "\n",
        "Using the spreadsheet, enter the start time of each somersault step in the first column of the first row. Then, in the column next to it, write the end time of each somersault step. Save as csv file."
      ],
      "metadata": {
        "id": "Cpdw4eYuVL3i"
      }
    },
    {
      "cell_type": "markdown",
      "source": [
        "*Loading the .csv file created above*"
      ],
      "metadata": {
        "id": "tIi3owECbrld"
      }
    },
    {
      "cell_type": "code",
      "source": [
        "from google.colab import files     #upload the file in the colab\n",
        "uploaded = files.upload()\n",
        "\n",
        "filename = next(iter(uploaded))               # add the name of file you want to analyze\n",
        "sst = pd.read_csv(filename)\n"
      ],
      "metadata": {
        "id": "9llUIRNUbtxx"
      },
      "execution_count": null,
      "outputs": []
    },
    {
      "cell_type": "markdown",
      "source": [
        "*Computation of all the parameters for each somersaulting setp*"
      ],
      "metadata": {
        "id": "VfM2s17CcADm"
      }
    },
    {
      "cell_type": "code",
      "source": [
        "\n",
        "#get Time for all parameter (time that it takes for sst)\n",
        "\n",
        "sst.dropna(subset = ['start_time'])                        # Need to drop NaN: sometimes pandas doesn't read the number of rows accurately\n",
        "sst.dropna(subset = ['end_time'])\n",
        "\n",
        "sst1 = sst\n",
        "# sstBL_time\n",
        "\n",
        "\n",
        "\n",
        "sst1['sstBL_time'] = sst1['end_time'] - sst1['start_time']\n",
        "\n",
        "\n",
        "# body length  sBL_start, sBL_end, dsBL\n",
        "\n",
        "sst1['sBL_start'] = 0        \n",
        "sst1['sBL_end'] = 0\n",
        "sst1 = sst1.astype(float)\n",
        "\n",
        "for i in range(0, len(sst1['start_time'])):      # sometimes pandas doesn't read the number of rows accurately, in that case type the number manually\n",
        "\n",
        "  time_s = sst1['start_time'][i]\n",
        "  time_e = sst1['end_time'][i]\n",
        "  sst1['sBL_start'][i] = dl['Body_length'][time_s]        \n",
        "  sst1['sBL_end'][i] = dl['Body_length'][time_e]   \n",
        "\n",
        "\n",
        "sst1['dsBL'] = sst1['sBL_start'] - sst1['sBL_end']\n",
        "sst1['dsBLabs'] = abs(sst1['dsBL'])\n",
        "\n",
        "sst1['sVbl'] = sst1['dsBLabs'] / sst1['sstBL_time']\n",
        "\n",
        "\n",
        "\n",
        "\n",
        "sst1['sdBD'] = 0\n",
        "sst1 = sst1.astype(float)\n",
        "\n",
        "\n",
        "for i in range(0, len(sst1['start_time'])):\n",
        "   a = sst1['start_time'][i]\n",
        "   b = sst1['end_time'][i]\n",
        "   dBDs = np.sqrt((((dl['bdx'][a])-(dl['bdx'][b]))**2)+(((dl['bdy'][a])-(dl['bdy'][b]))**2)) #calculate specific points\n",
        "   sst1['sdBD'][i] = dBDs\n",
        "\n",
        "\n",
        "sst1['sVbd'] = sst1['sdBD'] / sst1['sstBL_time']\n",
        "\n",
        "\n",
        "sst1['sFoot'] = 0\n",
        "sst1['eFoot'] = 0\n",
        "sst1 = sst1.astype(float)\n",
        "\n",
        "for i in range(0, len(sst1['start_time'])):\n",
        "   a = sst1['start_time'][i]\n",
        "   b = sst1['end_time'][i]\n",
        "   sst1['sFoot'][i] = dl['Foot_angle'][a]\n",
        "   sst1['eFoot'][i] = dl['Foot_angle'][b]\n",
        "\n",
        "sst1['sdfoot'] = sst1['eFoot'] - sst1['sFoot']\n",
        "\n",
        "sst1['sdfootAbs'] = abs(sst1['sdfoot'])\n",
        "\n",
        "print(sst1)\n"
      ],
      "metadata": {
        "id": "gq-cx4zub-7L"
      },
      "execution_count": null,
      "outputs": []
    },
    {
      "cell_type": "markdown",
      "source": [
        "*Saving file after analysis*"
      ],
      "metadata": {
        "id": "Mw4d2AmJcTTx"
      }
    },
    {
      "cell_type": "code",
      "source": [
        "filename = 'dl_SST parameter'\n",
        "sst1.to_csv(filename +'_ANALYZED.csv', index=False)\n",
        "files.download(filename +'_ANALYZED.csv')"
      ],
      "metadata": {
        "id": "qh1EsVkAbpsj"
      },
      "execution_count": null,
      "outputs": []
    }
  ]
}